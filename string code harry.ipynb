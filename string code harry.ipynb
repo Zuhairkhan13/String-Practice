{
 "cells": [
  {
   "cell_type": "code",
   "execution_count": 51,
   "id": "a76e80a3",
   "metadata": {},
   "outputs": [
    {
     "name": "stdout",
     "output_type": "stream",
     "text": [
      " Name:zuhair khan!!!!!!, Father name:khursheed khan, Age:13, status:single\n",
      "Hello zuhair khan!!!!!!\n",
      "khursheed khan\n"
     ]
    }
   ],
   "source": [
    "name = \"zuhair khan!!!!!!\"\n",
    "father_name = \"khursheed khan\"\n",
    "age = 13\n",
    "status = \"single\" \n",
    "print(f\" Name:{name}, Father name:{father_name}, Age:{age}, status:{status}\")\n",
    "print(\"Hello\",name)\n",
    "print(father_name)"
   ]
  },
  {
   "cell_type": "code",
   "execution_count": 52,
   "id": "aef44b2e",
   "metadata": {},
   "outputs": [
    {
     "name": "stdout",
     "output_type": "stream",
     "text": [
      "k\n",
      "h\n",
      "u\n",
      "r\n",
      "s\n",
      "h\n",
      "e\n",
      "e\n",
      "d\n",
      " \n",
      "k\n",
      "h\n",
      "a\n",
      "n\n"
     ]
    }
   ],
   "source": [
    "for char in father_name:\n",
    "    print(char)"
   ]
  },
  {
   "cell_type": "code",
   "execution_count": 53,
   "id": "82706adf",
   "metadata": {},
   "outputs": [
    {
     "name": "stdout",
     "output_type": "stream",
     "text": [
      "ZUHAIR KHAN!!!!!!\n",
      "zuhair khan!!!!!!\n"
     ]
    }
   ],
   "source": [
    "print(name.upper())\n",
    "print(name.lower())"
   ]
  },
  {
   "cell_type": "code",
   "execution_count": 54,
   "id": "da3379a1",
   "metadata": {},
   "outputs": [
    {
     "data": {
      "text/plain": [
       "'zuhair khan!!!!!!'"
      ]
     },
     "execution_count": 54,
     "metadata": {},
     "output_type": "execute_result"
    }
   ],
   "source": [
    "name"
   ]
  },
  {
   "cell_type": "code",
   "execution_count": 55,
   "id": "85253d37",
   "metadata": {},
   "outputs": [
    {
     "name": "stdout",
     "output_type": "stream",
     "text": [
      "zuhair khan\n"
     ]
    }
   ],
   "source": [
    "print(name.rstrip(\"!\"))"
   ]
  },
  {
   "cell_type": "code",
   "execution_count": 56,
   "id": "fd928c1a",
   "metadata": {},
   "outputs": [
    {
     "name": "stdout",
     "output_type": "stream",
     "text": [
      "Uzair khan!!!!!!\n"
     ]
    }
   ],
   "source": [
    "print(name.replace(\"zuhair\",\"Uzair\"))"
   ]
  },
  {
   "cell_type": "code",
   "execution_count": 57,
   "id": "a63b593b",
   "metadata": {},
   "outputs": [
    {
     "name": "stdout",
     "output_type": "stream",
     "text": [
      "['zuhair', 'khan!!!!!!']\n"
     ]
    }
   ],
   "source": [
    "print(name.split(\" \"))"
   ]
  },
  {
   "cell_type": "code",
   "execution_count": 58,
   "id": "0dd700ee",
   "metadata": {},
   "outputs": [
    {
     "name": "stdout",
     "output_type": "stream",
     "text": [
      "Zuhair khan!!!!!!\n"
     ]
    }
   ],
   "source": [
    "print(name.capitalize())"
   ]
  },
  {
   "cell_type": "code",
   "execution_count": 59,
   "id": "566edf35",
   "metadata": {},
   "outputs": [
    {
     "name": "stdout",
     "output_type": "stream",
     "text": [
      "                zuhair khan!!!!!!                 \n"
     ]
    }
   ],
   "source": [
    "print(name.center(50))"
   ]
  },
  {
   "cell_type": "code",
   "execution_count": 60,
   "id": "6da179d5",
   "metadata": {},
   "outputs": [
    {
     "name": "stdout",
     "output_type": "stream",
     "text": [
      "2\n"
     ]
    }
   ],
   "source": [
    "print(name.count(\"a\"))"
   ]
  },
  {
   "cell_type": "code",
   "execution_count": 61,
   "id": "fcbefed5",
   "metadata": {},
   "outputs": [
    {
     "name": "stdout",
     "output_type": "stream",
     "text": [
      "True\n"
     ]
    }
   ],
   "source": [
    "print(name.endswith(\"!\"))"
   ]
  },
  {
   "cell_type": "code",
   "execution_count": 62,
   "id": "86a96c5a",
   "metadata": {},
   "outputs": [
    {
     "name": "stdout",
     "output_type": "stream",
     "text": [
      "False\n"
     ]
    }
   ],
   "source": [
    "print(name.startswith(\"Z\"))"
   ]
  },
  {
   "cell_type": "code",
   "execution_count": 63,
   "id": "3a68e1c1",
   "metadata": {},
   "outputs": [
    {
     "name": "stdout",
     "output_type": "stream",
     "text": [
      "True\n"
     ]
    }
   ],
   "source": [
    "print(name.endswith(\"ir\", 0 ,6))"
   ]
  },
  {
   "cell_type": "code",
   "execution_count": 64,
   "id": "2140b97f",
   "metadata": {},
   "outputs": [
    {
     "name": "stdout",
     "output_type": "stream",
     "text": [
      "-1\n"
     ]
    }
   ],
   "source": [
    "print(name.find(\"iraa\"))"
   ]
  },
  {
   "cell_type": "code",
   "execution_count": 65,
   "id": "38cd1c50",
   "metadata": {},
   "outputs": [
    {
     "ename": "ValueError",
     "evalue": "substring not found",
     "output_type": "error",
     "traceback": [
      "\u001b[1;31m---------------------------------------------------------------------------\u001b[0m",
      "\u001b[1;31mValueError\u001b[0m                                Traceback (most recent call last)",
      "Cell \u001b[1;32mIn[65], line 1\u001b[0m\n\u001b[1;32m----> 1\u001b[0m \u001b[38;5;28mprint\u001b[39m(name\u001b[38;5;241m.\u001b[39mindex(\u001b[38;5;124m\"\u001b[39m\u001b[38;5;124miraa\u001b[39m\u001b[38;5;124m\"\u001b[39m))\n",
      "\u001b[1;31mValueError\u001b[0m: substring not found"
     ]
    }
   ],
   "source": [
    "print(name.index(\"iraa\"))"
   ]
  },
  {
   "cell_type": "code",
   "execution_count": 83,
   "id": "82c15ede",
   "metadata": {},
   "outputs": [
    {
     "name": "stdout",
     "output_type": "stream",
     "text": [
      "True\n"
     ]
    }
   ],
   "source": [
    "new = \"Zuhairkhan00\"\n",
    "print(new.isalnum())"
   ]
  },
  {
   "cell_type": "code",
   "execution_count": 84,
   "id": "c70a0919",
   "metadata": {},
   "outputs": [
    {
     "name": "stdout",
     "output_type": "stream",
     "text": [
      "False\n"
     ]
    }
   ],
   "source": [
    "print(new.isalpha())"
   ]
  },
  {
   "cell_type": "code",
   "execution_count": 85,
   "id": "0077ad81",
   "metadata": {},
   "outputs": [
    {
     "name": "stdout",
     "output_type": "stream",
     "text": [
      "False\n"
     ]
    }
   ],
   "source": [
    "print(new.islower())"
   ]
  },
  {
   "cell_type": "code",
   "execution_count": 86,
   "id": "a1d445ad",
   "metadata": {},
   "outputs": [
    {
     "name": "stdout",
     "output_type": "stream",
     "text": [
      "False\n"
     ]
    }
   ],
   "source": [
    "print(new.isupper())"
   ]
  },
  {
   "cell_type": "code",
   "execution_count": 87,
   "id": "e90e4735",
   "metadata": {},
   "outputs": [
    {
     "name": "stdout",
     "output_type": "stream",
     "text": [
      "True\n"
     ]
    }
   ],
   "source": [
    "print(new.isprintable())"
   ]
  },
  {
   "cell_type": "code",
   "execution_count": 108,
   "id": "f3fa0685",
   "metadata": {},
   "outputs": [
    {
     "name": "stdout",
     "output_type": "stream",
     "text": [
      "False\n",
      "zuhair\n",
      "KHan\n"
     ]
    }
   ],
   "source": [
    "fine=\"zuhair\\nKHan\"\n",
    "print(fine.isprintable())\n",
    "print(fine)"
   ]
  },
  {
   "cell_type": "code",
   "execution_count": 109,
   "id": "c468b7ba",
   "metadata": {},
   "outputs": [
    {
     "name": "stdout",
     "output_type": "stream",
     "text": [
      "False\n"
     ]
    }
   ],
   "source": [
    "print(fine.isspace())"
   ]
  },
  {
   "cell_type": "code",
   "execution_count": 110,
   "id": "ec277b14",
   "metadata": {},
   "outputs": [
    {
     "name": "stdout",
     "output_type": "stream",
     "text": [
      "False\n"
     ]
    }
   ],
   "source": [
    "print(fine.istitle())"
   ]
  },
  {
   "cell_type": "code",
   "execution_count": 111,
   "id": "c48c2bdf",
   "metadata": {},
   "outputs": [
    {
     "name": "stdout",
     "output_type": "stream",
     "text": [
      "ZUHAIR\n",
      "khAN\n"
     ]
    }
   ],
   "source": [
    "print(fine.swapcase())"
   ]
  },
  {
   "cell_type": "code",
   "execution_count": 112,
   "id": "7cbab326",
   "metadata": {},
   "outputs": [
    {
     "name": "stdout",
     "output_type": "stream",
     "text": [
      "Zuhair\n",
      "Khan\n"
     ]
    }
   ],
   "source": [
    "print(fine.title())"
   ]
  },
  {
   "cell_type": "code",
   "execution_count": 4,
   "id": "3e5d2802",
   "metadata": {},
   "outputs": [],
   "source": [
    "name = \"Zuhair khan\"\n",
    "f_name = \"Khursheed khan\"\n",
    "age = 18\n",
    "Gender = \"Male\""
   ]
  },
  {
   "cell_type": "code",
   "execution_count": 11,
   "id": "c132af7f",
   "metadata": {},
   "outputs": [
    {
     "name": "stdout",
     "output_type": "stream",
     "text": [
      "Zuhair khan\n",
      "Khursheed khan\n"
     ]
    }
   ],
   "source": [
    "print(name,end='\\n',flush=False)\n",
    "print(f_name)"
   ]
  },
  {
   "cell_type": "code",
   "execution_count": 20,
   "id": "2a59e39d",
   "metadata": {},
   "outputs": [
    {
     "name": "stdout",
     "output_type": "stream",
     "text": [
      "Zuhair khan\n"
     ]
    }
   ],
   "source": [
    "print(name)"
   ]
  },
  {
   "cell_type": "code",
   "execution_count": 32,
   "id": "fe483376",
   "metadata": {},
   "outputs": [
    {
     "name": "stdout",
     "output_type": "stream",
     "text": [
      "Z\n",
      "u\n",
      "h\n",
      "a\n",
      "Maya\n",
      "i\n",
      "r\n",
      " \n",
      "k\n",
      "h\n",
      "a\n",
      "Maya\n",
      "n\n"
     ]
    }
   ],
   "source": [
    "for a in name:\n",
    "    print(a)\n",
    "    if a == \"a\":\n",
    "        print(\"Maya\")"
   ]
  },
  {
   "cell_type": "code",
   "execution_count": 55,
   "id": "5fdcfbec",
   "metadata": {},
   "outputs": [
    {
     "name": "stdout",
     "output_type": "stream",
     "text": [
      "Zuhair KHan \n"
     ]
    }
   ],
   "source": [
    "Name = (\"Zuhair KHan !!!!!!\")\n",
    "print(Name.rstrip(\"!\"))"
   ]
  },
  {
   "cell_type": "code",
   "execution_count": 56,
   "id": "fdfe6f6a",
   "metadata": {},
   "outputs": [
    {
     "name": "stdout",
     "output_type": "stream",
     "text": [
      "Zuhair Khan !!!!!!\n"
     ]
    }
   ],
   "source": [
    "print(Name.title())"
   ]
  },
  {
   "cell_type": "code",
   "execution_count": 57,
   "id": "79467512",
   "metadata": {},
   "outputs": [
    {
     "name": "stdout",
     "output_type": "stream",
     "text": [
      "zUHAIR khAN !!!!!!\n"
     ]
    }
   ],
   "source": [
    "print(Name.swapcase())"
   ]
  },
  {
   "cell_type": "code",
   "execution_count": 58,
   "id": "1e002bd9",
   "metadata": {},
   "outputs": [
    {
     "name": "stdout",
     "output_type": "stream",
     "text": [
      "True\n"
     ]
    }
   ],
   "source": [
    "print(Name.isprintable())"
   ]
  },
  {
   "cell_type": "code",
   "execution_count": 59,
   "id": "d2412677",
   "metadata": {},
   "outputs": [
    {
     "name": "stdout",
     "output_type": "stream",
     "text": [
      "-1\n"
     ]
    }
   ],
   "source": [
    "print(Name.find(\"m\"))"
   ]
  },
  {
   "cell_type": "code",
   "execution_count": 60,
   "id": "cf535a4d",
   "metadata": {},
   "outputs": [
    {
     "ename": "ValueError",
     "evalue": "substring not found",
     "output_type": "error",
     "traceback": [
      "\u001b[1;31m---------------------------------------------------------------------------\u001b[0m",
      "\u001b[1;31mValueError\u001b[0m                                Traceback (most recent call last)",
      "Cell \u001b[1;32mIn[60], line 1\u001b[0m\n\u001b[1;32m----> 1\u001b[0m \u001b[38;5;28mprint\u001b[39m(Name\u001b[38;5;241m.\u001b[39mindex(\u001b[38;5;124m\"\u001b[39m\u001b[38;5;124mm\u001b[39m\u001b[38;5;124m\"\u001b[39m))\n",
      "\u001b[1;31mValueError\u001b[0m: substring not found"
     ]
    }
   ],
   "source": [
    "print(Name.index(\"m\"))"
   ]
  },
  {
   "cell_type": "code",
   "execution_count": 61,
   "id": "f895321b",
   "metadata": {},
   "outputs": [
    {
     "name": "stdout",
     "output_type": "stream",
     "text": [
      "['Zuhair', 'KHan', '!!!!!!']\n"
     ]
    }
   ],
   "source": [
    "print(Name.split(\" \"))"
   ]
  },
  {
   "cell_type": "code",
   "execution_count": 63,
   "id": "8162d759",
   "metadata": {},
   "outputs": [
    {
     "name": "stdout",
     "output_type": "stream",
     "text": [
      "ZUHAIR KHAN !!!!!!\n"
     ]
    }
   ],
   "source": [
    "print(Name.upper())"
   ]
  },
  {
   "cell_type": "code",
   "execution_count": 64,
   "id": "268e2b83",
   "metadata": {},
   "outputs": [
    {
     "name": "stdout",
     "output_type": "stream",
     "text": [
      "Zuhair khan !!!!!!\n"
     ]
    }
   ],
   "source": [
    "print(Name.capitalize())"
   ]
  },
  {
   "cell_type": "code",
   "execution_count": 66,
   "id": "2c20ec8f",
   "metadata": {},
   "outputs": [
    {
     "name": "stdout",
     "output_type": "stream",
     "text": [
      "Uzair KHan !!!!!!\n"
     ]
    }
   ],
   "source": [
    "print(Name.replace(\"Zuhair\",\"Uzair\"))"
   ]
  },
  {
   "cell_type": "code",
   "execution_count": null,
   "id": "6d298bc1",
   "metadata": {},
   "outputs": [],
   "source": []
  }
 ],
 "metadata": {
  "kernelspec": {
   "display_name": "Python 3 (ipykernel)",
   "language": "python",
   "name": "python3"
  },
  "language_info": {
   "codemirror_mode": {
    "name": "ipython",
    "version": 3
   },
   "file_extension": ".py",
   "mimetype": "text/x-python",
   "name": "python",
   "nbconvert_exporter": "python",
   "pygments_lexer": "ipython3",
   "version": "3.11.5"
  }
 },
 "nbformat": 4,
 "nbformat_minor": 5
}
